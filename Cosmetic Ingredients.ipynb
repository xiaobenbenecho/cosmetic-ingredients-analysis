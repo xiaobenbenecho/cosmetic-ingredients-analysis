{
 "cells": [
  {
   "cell_type": "code",
   "execution_count": 169,
   "id": "65fc42f3",
   "metadata": {},
   "outputs": [],
   "source": [
    "import pandas as pd\n",
    "from thefuzz import fuzz\n",
    "import re"
   ]
  },
  {
   "cell_type": "code",
   "execution_count": 170,
   "id": "a777375c",
   "metadata": {},
   "outputs": [],
   "source": [
    "def remove_special_chars_except_alnum_parentheses(s):\n",
    "    # Regular expression to match all special characters at the beginning or end of the string\n",
    "    pattern = r'^[^a-zA-Z0-9(]+|[^a-zA-Z0-9)]+$'\n",
    "    return re.sub(pattern, '', s)\n",
    "\n",
    "def filter_strings_with_parentheses(strings_set):\n",
    "    filtered_strings = [s for s in strings_set if '(' in s and ')' in s]\n",
    "    return filtered_strings\n",
    "\n",
    "def split_string_with_parentheses(input_string):\n",
    "    # Find the index of '(' and ')'\n",
    "    start_index = input_string.find('(')\n",
    "    end_index = input_string.find(')')\n",
    "\n",
    "    if start_index != -1 and end_index != -1 and end_index > start_index:\n",
    "        first = input_string[:start_index].strip() + input_string[end_index + 1:]\n",
    "        second = input_string[start_index + 1:end_index] + input_string[end_index + 1:]\n",
    "        \n",
    "        return first.strip(), second.strip()\n",
    "    else:\n",
    "        return None, None\n",
    "    \n",
    "def filter_strings_with_slash(strings_set):\n",
    "    filtered_strings = [s for s in strings_set if '/' in s]\n",
    "    return filtered_strings    \n",
    "\n",
    "\n",
    "def split_string_with_slash(s):\n",
    "    parts = re.split(r'[/()]', s)\n",
    "    cleaned_parts = [part.strip() for part in parts if part.strip()]\n",
    "    return cleaned_parts\n",
    "    # 3 scenarios: 1 - only one '/'; 2 - more than 1 '/'; 3 - '()' and '/'"
   ]
  },
  {
   "cell_type": "code",
   "execution_count": 374,
   "id": "a5830298",
   "metadata": {},
   "outputs": [],
   "source": [
    "harmful_ingredients = {\"Hydroquinone\", \n",
    "                       \"Retinol\", \"Retinoid\",\"retinoic acid\", \"retinyl palmitate\", \"retinaldehyde\", \"adapalene\", \n",
    "                       \"tretinoin\", \"tazarotene\", \"isotretinoin\",\n",
    "                       \"Salicylic Acid\", \"Beta Hydroxy Acid\", \"Alpha Hydroxy Acid\", \"salicylate\", \"sodium salicylate\",\n",
    "                       \"willow extract\", \"Tropic acid\", \"Trethocanic acid\",\n",
    "                       \"dihydroxyacetone\", \"DHA\",\n",
    "                       \"Phthalates\", \"PAEs\", \"dibutylphthalate\", \"DBP\", \"dimethylphthalate\", \"DMP\", \"diethylphthalate\",\n",
    "                       \"DEP\", \"diethyl\", \"dibutyl\", \"benzylbutyl phthalate\", \"Paraben\",\"phthalate\",\n",
    "                       \"Formaldehyde\",\"Phenoxyethanol\", \"quaternium-15\", \"DMDM\", \"hydantoin\", \"formalin\", \n",
    "                       \"methylene glycol\", \"ethylene oxide\", \"benzyl benzoate\",\n",
    "                       \"Toluene\", \n",
    "                       \"Thioglycolic acid\", \n",
    "                       \"A-aldehyde\", \"Retinaldehyde\", \"A-alcohol\", \"A-ester\", \"Retinyl palmitate\", \"A-acid\", \n",
    "                       \"Salicylic acid\", \"Growth hormone\", \"Benzene peroxide\", \"Tetracycline\",\n",
    "                       \"PROPYLENE GLYCOL\", \"Octinoxate\", \"PARABENS\", \"SODIUM BENZOATE\", \"DIMETHICONE\", \"BHA\",\n",
    "                       \"TRICLOSAN\", \"BHT\", \"FORMALDEHYDE\", \"BPA\",\"Magnesium hydroxide\", \"GLYCERIN\", \"PETROLEUM JELLY\" \n",
    "                      };\n",
    "doubleful_ingredients = {\"Polyacrylamide\", \"Acrylamide\", \n",
    "                         \"Polyacrylate\", \"Polyquaternium\", \"Acrylate\",\"ethanol\",\"PEG\",\"Polyethylene Glycol\",\n",
    "                         \"Fragrance\",\"fragrance (parfum)\"}"
   ]
  },
  {
   "cell_type": "code",
   "execution_count": 375,
   "id": "b4744ba8",
   "metadata": {},
   "outputs": [],
   "source": [
    "red_list = {x.lower() for x in harmful_ingredients}\n",
    "amber_list = {x.lower() for x in doubleful_ingredients}"
   ]
  },
  {
   "cell_type": "code",
   "execution_count": 376,
   "id": "565f08cc",
   "metadata": {},
   "outputs": [
    {
     "data": {
      "text/plain": [
       "{'a-acid',\n",
       " 'a-alcohol',\n",
       " 'a-aldehyde',\n",
       " 'a-ester',\n",
       " 'adapalene',\n",
       " 'alpha hydroxy acid',\n",
       " 'benzene peroxide',\n",
       " 'benzyl benzoate',\n",
       " 'benzylbutyl phthalate',\n",
       " 'beta hydroxy acid',\n",
       " 'bha',\n",
       " 'bht',\n",
       " 'bpa',\n",
       " 'dbp',\n",
       " 'dep',\n",
       " 'dha',\n",
       " 'dibutyl',\n",
       " 'dibutylphthalate',\n",
       " 'diethyl',\n",
       " 'diethylphthalate',\n",
       " 'dihydroxyacetone',\n",
       " 'dimethicone',\n",
       " 'dimethylphthalate',\n",
       " 'dmdm',\n",
       " 'dmp',\n",
       " 'ethylene oxide',\n",
       " 'formaldehyde',\n",
       " 'formalin',\n",
       " 'glycerin',\n",
       " 'growth hormone',\n",
       " 'hydantoin',\n",
       " 'hydroquinone',\n",
       " 'isotretinoin',\n",
       " 'magnesium hydroxide',\n",
       " 'methylene glycol',\n",
       " 'octinoxate',\n",
       " 'paes',\n",
       " 'paraben',\n",
       " 'parabens',\n",
       " 'petroleum jelly',\n",
       " 'phenoxyethanol',\n",
       " 'phthalate',\n",
       " 'phthalates',\n",
       " 'propylene glycol',\n",
       " 'quaternium-15',\n",
       " 'retinaldehyde',\n",
       " 'retinoic acid',\n",
       " 'retinoid',\n",
       " 'retinol',\n",
       " 'retinyl palmitate',\n",
       " 'salicylate',\n",
       " 'salicylic acid',\n",
       " 'sodium benzoate',\n",
       " 'sodium salicylate',\n",
       " 'tazarotene',\n",
       " 'tetracycline',\n",
       " 'thioglycolic acid',\n",
       " 'toluene',\n",
       " 'trethocanic acid',\n",
       " 'tretinoin',\n",
       " 'triclosan',\n",
       " 'tropic acid',\n",
       " 'willow extract'}"
      ]
     },
     "execution_count": 376,
     "metadata": {},
     "output_type": "execute_result"
    }
   ],
   "source": [
    "red_list"
   ]
  },
  {
   "cell_type": "code",
   "execution_count": 377,
   "id": "9d2f2757",
   "metadata": {},
   "outputs": [],
   "source": [
    "safe_products = {''}\n",
    "amber_products = {''}\n",
    "red_products = {''}"
   ]
  },
  {
   "cell_type": "code",
   "execution_count": 378,
   "id": "40a9265c",
   "metadata": {},
   "outputs": [
    {
     "data": {
      "text/plain": [
       "{'acrylamide',\n",
       " 'acrylate',\n",
       " 'ethanol',\n",
       " 'fragrance',\n",
       " 'fragrance (parfum)',\n",
       " 'peg',\n",
       " 'polyacrylamide',\n",
       " 'polyacrylate',\n",
       " 'polyethylene glycol',\n",
       " 'polyquaternium'}"
      ]
     },
     "execution_count": 378,
     "metadata": {},
     "output_type": "execute_result"
    }
   ],
   "source": [
    "amber_list"
   ]
  },
  {
   "cell_type": "code",
   "execution_count": 379,
   "id": "ece05679",
   "metadata": {},
   "outputs": [],
   "source": [
    "green_list = {'water','aqua'}"
   ]
  },
  {
   "cell_type": "code",
   "execution_count": 380,
   "id": "921ece57",
   "metadata": {
    "scrolled": true
   },
   "outputs": [],
   "source": [
    "def get_the_input_list(input_string):\n",
    "    # convert the long string to list of components\n",
    "    input_list = re.split(r'[,･.·•]', input_string)\n",
    "    if len(input_list) <= 1:\n",
    "        print('Cannot Recognise the Split Symbol in the Ingredients List')\n",
    "        raise\n",
    "    # remove empty strings\n",
    "    input_list = {s for s in input_list if any(c.isalpha() for c in s)}\n",
    "    # remove the space or special character fron each string\n",
    "    # convert the components to lower characters\n",
    "    input_list = {remove_special_chars_except_alnum_parentheses(x).lower() for x in input_list}\n",
    "    # filter components with ()\n",
    "    # for components with (), \n",
    "    ## seperate the components into 2 equivalent components - part 1: deal with anything in front of () + the rest\n",
    "    ## - part 2: content in () + the rest \n",
    "    inputs_with_parentheses = filter_strings_with_parentheses(input_list)\n",
    "    # add the parentheses splitted inputs into the input_list.\n",
    "    for input_with_parentheses in inputs_with_parentheses:\n",
    "        part1, part2 = split_string_with_parentheses(input_with_parentheses)\n",
    "        input_list.update({part1, part2})\n",
    "    # filter components with /\n",
    "    # for components with /, \n",
    "    ## seperate the components into parts that seperated by /\n",
    "    inputs_with_slash = filter_strings_with_slash(input_list)\n",
    "    # add the parentheses splitted inputs into the input_list.\n",
    "    for input_with_slash in inputs_with_slash:\n",
    "        parts = split_string_with_slash(input_with_slash)\n",
    "        input_list.update(set(parts))   \n",
    "    ## for each of the seperated words pair, intersect with red and amber list and return intersected words.\n",
    "    return input_list\n",
    "\n",
    "def get_the_red_amber_list(input_list):\n",
    "    red = input_list.intersection(red_list)\n",
    "    amber = input_list.intersection(amber_list)\n",
    "    return red, amber\n",
    "def update_the_green_list(input_list, red_list, amber_list):\n",
    "    input_list.difference_update(red_list)\n",
    "    input_list.difference_update(amber_list)\n",
    "    green_list.update(input_list)"
   ]
  },
  {
   "cell_type": "code",
   "execution_count": 381,
   "id": "0215623f",
   "metadata": {},
   "outputs": [],
   "source": [
    "def process_product_ingredients(product_name:str, input_string:str):\n",
    "    input_list = get_the_input_list(input_string)\n",
    "    \n",
    "    product_name = product_name.lower()\n",
    "\n",
    "    red, amber = get_the_red_amber_list(input_list)\n",
    "\n",
    "    if len(red)==0 and len(amber)==0:\n",
    "        safe_products.update({product_name})\n",
    "        print(\"all ingredients in %s are safe\" % product_name)\n",
    "    elif len(amber) > 0 and len(red)==0:\n",
    "        amber_products.update({product_name})\n",
    "        print(\"The doubltful ingredients in %s are %s\" % (product_name, ','.join(amber)))\n",
    "    elif len(amber) == 0 and len(red)>0:\n",
    "        red_products.update({product_name})\n",
    "        print(\"The harmful ingredients in %s are %s\" % (product_name, ','.join(red)))\n",
    "    else:\n",
    "        red_products.update({product_name})\n",
    "        amber_products.update({product_name})\n",
    "        print(\"The harmful ingredients in %s are %s\" % (product_name, ','.join(red)))\n",
    "        print(\"The doubltful ingredients in %s are %s\" % (product_name, ','.join(amber)))\n",
    "        \n",
    "    update_the_green_list(input_list, red, amber)\n",
    "    \n",
    "    return input_list, red, amber"
   ]
  },
  {
   "cell_type": "code",
   "execution_count": 382,
   "id": "ffe8b0bf",
   "metadata": {},
   "outputs": [
    {
     "name": "stdout",
     "output_type": "stream",
     "text": [
      "The harmful ingredients in nars light reflecting setting powder - pressed are glycerin,phenoxyethanol,dimethicone\n"
     ]
    }
   ],
   "source": [
    "product_name = \"NARS LIGHT REFLECTING SETTING POWDER - PRESSED\"\n",
    "input_string = \"SILICA · METHYL METHACRYLATE CROSSPOLYMER · DIMETHICONE · LAUROYL LYSINE · TRIMETHYLSILOXYSILICATE · GLYCERIN · TOCOPHERYL ACETATE · ASCOPHYLLUM NODOSUM EXTRACT · SEA WATER/MARIS AQUA/EAU DE MER · ETHYLHEXYLGLYCERIN · MAGNESIUM SILICATE · POLYSILICONE-2 · WATER/AQUA/EAU · BARIUM SULFATE · ALUMINA · CITRIC ACID · CHLORPHENESIN · PHENOXYETHANOL · POTASSIUM SORBATE ·  MICA · TITANIUM DIOXIDE (CI 77891) · IRON OXIDES (CI 77491) · IRON OXIDES (CI 77492) · IRON OXIDES (CI 77499)\"\n",
    "_all, red, amber = process_product_ingredients(product_name, input_string)"
   ]
  },
  {
   "cell_type": "code",
   "execution_count": 383,
   "id": "1ebf0e01",
   "metadata": {},
   "outputs": [
    {
     "name": "stdout",
     "output_type": "stream",
     "text": [
      "The harmful ingredients in nars light reflecting advanced skincare foundation are glycerin,phenoxyethanol\n"
     ]
    }
   ],
   "source": [
    "product_name = \"Nars LIGHT REFLECTING ADVANCED SKINCARE FOUNDATION\"\n",
    "input_string = \"WATER/AQUA/EAU · C9-12 ALKANE · BUTYLENE GLYCOL · UNDECANE · TRIDECANE · ISODECYL NEOPENTANOATE · HYDROGENATED POLYISOBUTENE · POLYGLYCERYL-6 POLYRICINOLEATE · POLYGLYCERYL-2 DIISOSTEARATE · DISTEARDIMONIUM HECTORITE · DIISOSTEARYL MALATE · GLYCERIN · SYNTHETIC WAX · SODIUM CHLORIDE · OPHIOPOGON JAPONICUS ROOT EXTRACT · ASCOPHYLLUM NODOSUM EXTRACT · THEOBROMA CACAO (COCOA) SEED EXTRACT · CURCUMA LONGA (TURMERIC) ROOT EXTRACT · SILYBUM MARIANUM FRUIT EXTRACT · ALUMINUM HYDROXIDE · MAGNESIUM CHLORIDE · SODIUM DILAURAMIDOGLUTAMIDE LYSINE · TOCOPHEROL · COCO-CAPRYLATE/CAPRATE · ETHYLHEXYLGLYCERIN · PENTYLENE GLYCOL · HYDROXYPHENYL PROPAMIDOBENZOIC ACID · ASCORBYL PALMITATE · CITRIC ACID · SEA WATER/MARIS AQUA/EAU DE MER · TRISODIUM EDTA · BARIUM SULFATE · ALUMINA · CHLORPHENESIN · PHENOXYETHANOL · POTASSIUM SORBATE · IRON OXIDES (CI 77491, CI 77492, CI 77499) · MICA · TITANIUM DIOXIDE (CI 77891)\"\n",
    "_all, red, amber = process_product_ingredients(product_name, input_string)"
   ]
  },
  {
   "cell_type": "code",
   "execution_count": 384,
   "id": "c155837c",
   "metadata": {},
   "outputs": [
    {
     "name": "stdout",
     "output_type": "stream",
     "text": [
      "The harmful ingredients in naturie hatomugi skin conditioner lotion are glycerin\n"
     ]
    }
   ],
   "source": [
    "product_name = \"NATURIE HATOMUGI SKIN CONDITIONER LOTION\"\n",
    "input_string2022 = \"Water, DPG, BG, Glycerin, Eyelet Extract, 2K Glycyrrhizinate, (Acrylates/Ethylhexyl Acrylate) Copolymer, Citric Acid, Sodium Citric Acid, Methylparaben\"\n",
    "input_string2021 =  \"Water, DPG, BG, Glycerin, Glycyrrhizic acid 2K, Hatomugi extract, (styrene / Acrylate) copolymer, Ethanol, Citric acid, Na citrate, Methylparaben, Proxparaben\"\n",
    "_all, red, amber = process_product_ingredients(product_name, input_string2022)"
   ]
  },
  {
   "cell_type": "code",
   "execution_count": 385,
   "id": "05a4bb76",
   "metadata": {},
   "outputs": [
    {
     "name": "stdout",
     "output_type": "stream",
     "text": [
      "The harmful ingredients in three flawless ethereal fluid foundation are glycerin,phenoxyethanol\n"
     ]
    }
   ],
   "source": [
    "product_name = \"THREE Flawless Ethereal Fluid Foundation\"\n",
    "input_string = \"Water, cyclopentasiloxane, BG, caprylic/capric propanediol, talc, propanediol, zinc oxide, starch octenylsuccinate Al, squalane, sorbitan sesquiisostearate, PEG-10 dimethicone, argania spinosa kernel oil, Shea butter, tea seed oil, jojoba seed oil, beeswax, rose canina fruit oil, evening primrose oil, pulquenetia volubilis seed oil, polyhydroxystearic acid, methyl methacrylate crosspolymer, sorbitan sesquioleate, phenoxyethanol, silica, alumina, glycerin , sodium chloride, stearic acid, Al dimyristate, tocopherol, di(phytosteryl/octyldodecyl) lauroyl glutamate, mica, synthetic fluorophlogopite, synthetic iron phlogopite, lauroyl lysine, acrylates copolymer, disodium stearoyl glutamate, hydrogen dimethicone , titanium oxide, iron oxide, aluminum hydroxide\"\n",
    "_all, red, amber = process_product_ingredients(product_name, input_string)"
   ]
  },
  {
   "cell_type": "code",
   "execution_count": 356,
   "id": "46829af7",
   "metadata": {},
   "outputs": [
    {
     "name": "stdout",
     "output_type": "stream",
     "text": [
      "The harmful ingredients in ren evercalm global protection day cream are phenoxyethanol\n",
      "The doubltful ingredients in ren evercalm global protection day cream are fragrance\n"
     ]
    }
   ],
   "source": [
    "product_name = \"Ren Evercalm Global Protection Day Cream\"\n",
    "input_string = \"Aqua (Water), Cetearyl Alcohol, Camellia Oleifera Seed Oil, Cetearyl Ethylhexanoate, Myristyl Myristate, Sesamum Indicum (Sesame) Seed Oil, Glycerin, Butyrospermum Parkii (Shea) Butter, Caprylic/Capric Triglyceride, Triheptanoin, Cetearyl Glucoside, Myristyl Laurate, Oryzanol, Helianthus Annuus (Sunflower) Seed Oil, Ethylhexylglycerin, Vaccinium Macrocarpon (Cranberry) Seed Oil, Bisabolol, Ribes Nigrum (Black Currant) Seed Oil, Carbomer, Hippophae Rhamnoides Fruit Extract, Citrus Nobilis (Mandarin Orange) Peel Oil, Tocopherol, Anthemis Nobilis Flower Oil, Cinnamomum Camphora Linalloliferum (Ho Wood) Leaf Oil, Pelargonium Graveolens Flower Oil, Phenoxyethanol, Sodium Dehydroacetate, Pueraria Lobata (Kudzu) Symbiosome Extract, Laminaria Ochroleuca Extract, Cassia Alata Leaf Extract, Calendula Officinalis Flower Extract, Glucose, Parfum* (Fragrance), Rosmarinus Officinalis (Rosemary) Leaf Extract, Lactic Acid, Sodium Hydroxide, Citronellol, Geraniol, Limonene, Linalool\"\n",
    "_all, red, amber = process_product_ingredients(product_name, input_string)"
   ]
  },
  {
   "cell_type": "code",
   "execution_count": 357,
   "id": "0d33d4b0",
   "metadata": {},
   "outputs": [
    {
     "name": "stdout",
     "output_type": "stream",
     "text": [
      "The harmful ingredients in ren evercalm ultra comforting rescue mask are phenoxyethanol\n",
      "The doubltful ingredients in ren evercalm ultra comforting rescue mask are fragrance\n"
     ]
    }
   ],
   "source": [
    "input_string = \"Aqua (Water), Glycerin, Cetearyl Alcohol, Caprylyl Caprylate/Caprate, Olus Oil, Lactobacillus Ferment, Butyrospermum, Parkii (Shea) Butter, Helianthus Annus (Sunflower) Seed Wax, Simmondsia Chinesis (Jojoba) Seed Oil, Cetearyl Glucoside, Propanediol, Algae Extract, Cetyl Alcohol, Lactobacillus, Alpha-Glucan Oligosaccharide, Parfum* (Fragrance), Tocopheryl Acetate, Caprylic/Capric Triglyceride Panthenol, Carbomer, Vaccinium Vitas-Idaea (Lingonberry) Seed Oil, Xanthan Gum, Arnica Montana Flower Extract, Camelina Sativa Seed Oil, Cocus Nucifera (Coconut) Fruit Extract, Tocopherol, Magnesium Carboxymethyl Beta-Glucan, Malachite Extract, Albatrellus Ovinus Extract, Laminaria Ochroleuca Extract, Glucose, Phenoxyethanol, Helianthus Annuus (Sunflower) Seed Oil, Citric Acid, Sodium Hydroxide, Rosmarinus Officinalis Leat Extract, Citronellol, Geraniol, Limonene, Linalool\"\n",
    "product_name = \"Ren Evercalm Ultra Comforting Rescue Mask\"\n",
    "_all, red, amber = process_product_ingredients(product_name, input_string)"
   ]
  },
  {
   "cell_type": "code",
   "execution_count": 358,
   "id": "30f927f8",
   "metadata": {},
   "outputs": [
    {
     "name": "stdout",
     "output_type": "stream",
     "text": [
      "The doubltful ingredients in mustela hydra bebe body lotion are fragrance\n"
     ]
    }
   ],
   "source": [
    "product_name = \"Mustela Hydra Bebe Body Lotion\"\n",
    "input_string = \"AQUA/WATER/EAU, HELIANTHUS ANNUUS (SUNFLOWER) SEED OIL, GLYCERIN, POLYGLYCERYL 6 DISTEARATE, CETYL ALCOHOL, 1,2 HEXANEDIOL, CERA ALBA/BEESWAX/CIRE D’ABEILLE, HYDROXYETHYL ACRYLATE/SODIUM ACRYLOYLDIMETHYL TAURATE COPOLYMER, PARFUM (FRAGRANCE), JOJOBA ESTERS, CAPRYLYL GLYCOL, SODIUM STEAROYL GLUTAMATE, POLYGLYCERYL3 BEESWAX/ POLYGLYCERYL 3 CIRE D’ABEILLE, TOCOPHERYL ACETATE, POLYSORBATE 60, SORBITAN ISOSTEARATE, CITRIC ACID, PERSEA GRATISSIMA (AVOCADO) FRUIT EXTRACT\"\n",
    "_all, red, amber = process_product_ingredients(product_name, input_string)"
   ]
  },
  {
   "cell_type": "code",
   "execution_count": 359,
   "id": "1bb78ba6",
   "metadata": {},
   "outputs": [
    {
     "name": "stdout",
     "output_type": "stream",
     "text": [
      "The doubltful ingredients in fancl mild cleansing oil are peg\n"
     ]
    }
   ],
   "source": [
    "input_string = \"Cetyl Ethylhexanoate, Butylene Glycol Diisononanoate, Polyglyceryl-10 Diisostearate, Polyglyceryl-20 Hexacaprylate, Polyglyceryl-20 Octaisononanoate, Glycerin, Tridecane,Dicaprylyl Ether, Limnanthes Alba (Meadowfoam) Seed Oil, Glyceryl Behenate/Eicosadioate, Diphenylsiloxy Phenyl Trimethicone, Diglycerin, Humulus Lupulus (Hops) Extract, Camellia Sinensis Leaf Extract, Rubus Ellipticus Root Extract, Phytosteryl/Isostearyl/Cetyl/Stearyl/Behenyl Dimer Dilinoleate, Helianthus Annuus (Sunflower) Seed Oil, Butylene Glycol, Pentylene Glycol, PEG/PPG/Polybutylene Glycol-8/5/3 Glycerin, PPG-2 Arginine, Stearoyl Inulin, Water, Tocopherol, Lactic Acid\"\n",
    "product_name = \"Fancl Mild Cleansing Oil\"\n",
    "_all, red, amber = process_product_ingredients(product_name, input_string)"
   ]
  },
  {
   "cell_type": "code",
   "execution_count": 360,
   "id": "b7643694",
   "metadata": {},
   "outputs": [
    {
     "name": "stdout",
     "output_type": "stream",
     "text": [
      "The doubltful ingredients in three balancing cleasing oil are ethanol\n"
     ]
    }
   ],
   "source": [
    "input_string = \"Caprylic/Capric Triglyceride, Olive Fruit Oil, Ethylhexyl Palmitate, PEG-20 Glyceryl Triisostearate, PEG-12 Isostearate, Bergamot Fruit Oil, Majorana Leaf Oil, Nymphalospermum Oil, Rosemary Leaf Oil, Bitter Orange leaf/branch oil, orange peel oil, saffron flower extract, burdock root extract, tea seed oil, borage seed oil, moringa seed oil, soybean oil, panax ginseng root extract, rhubarb root extract, bucrose extract, carrot root extract, tripoli Dipentaerythrityl hydroxystearate, pentylene glycol, water, isostearic acid, tocopherol, ethanol, BG\"\n",
    "product_name = \"three balancing cleasing oil\"\n",
    "_all, red, amber = process_product_ingredients(product_name, input_string)"
   ]
  },
  {
   "cell_type": "code",
   "execution_count": 361,
   "id": "61a71fad",
   "metadata": {},
   "outputs": [
    {
     "name": "stdout",
     "output_type": "stream",
     "text": [
      "all ingredients in haba g-lotion are safe\n"
     ]
    }
   ],
   "source": [
    "input_string = \"Water, butylene glycol, sasa kurilensis (bamboo) water, pentylene glycol, sodium citrate, lithospermum erythrorhizone root extract, sodium hyaluronate, sodium chondroitin sulfate, dipotassium glycyrrhizate, (C/T) seaweed extract, citric acid, sea salt, hydrolyzed soy protein, succinic acid, aluminimum chloride\"\n",
    "product_name = \"Haba G-lotion\"\n",
    "_all, red, amber = process_product_ingredients(product_name, input_string)"
   ]
  },
  {
   "cell_type": "code",
   "execution_count": 362,
   "id": "c486e069",
   "metadata": {},
   "outputs": [
    {
     "name": "stdout",
     "output_type": "stream",
     "text": [
      "The harmful ingredients in kiehl's cucumber herbal alcohol-free toner are phenoxyethanol\n"
     ]
    }
   ],
   "source": [
    "input_string = \"AQUA / WATER • PROPANEDIOL • PROPYLENE GLYCOL • PHENOXYETHANOL • SODIUM PCA • SODIUM BENZOATE • ALLANTOIN • CHAMOMILLA RECUTITA FLOWER EXTRACT / MATRICARIA FLOWER EXTRACT • GLUCOSE • CUCUMIS SATIVUS FRUIT EXTRACT / CUCUMBER FRUIT EXTRACT • ALOE BARBADENSIS LEAF JUICE POWDER • CAMPHOR • URTICA DIOICA EXTRACT / NETTLE EXTRACT • EQUISETUM ARVENSE EXTRACT • BETULA ALBA LEAF EXTRACT • CI 19140 / YELLOW 5 • POTASSIUM SORBATE • CI 14700 / RED 4 • CI 42090 / BLUE 1 • SODIUM HYDROXIDE • CITRIC ACID\"\n",
    "product_name = \"kiehl's Cucumber Herbal Alcohol-Free Toner\"\n",
    "_all, red, amber = process_product_ingredients(product_name, input_string)"
   ]
  },
  {
   "cell_type": "code",
   "execution_count": 363,
   "id": "b09d7652",
   "metadata": {},
   "outputs": [
    {
     "name": "stdout",
     "output_type": "stream",
     "text": [
      "all ingredients in bioeffect egf serum are safe\n"
     ]
    }
   ],
   "source": [
    "product_name = \"bioeffect EGF Serum\"\n",
    "input_string = \"GLYCERIN, WATER (AQUA), SODIUM HYALURONATE, TROMETHAMINE, SODIUM CHLORIDE, BARLEY (HORDEUM VULGARE) SEED EXTRACT, EGF (BARLEY SH-OLIGOPEPTIDE-1)\"\n",
    "_all, red, amber = process_product_ingredients(product_name, input_string)"
   ]
  },
  {
   "cell_type": "code",
   "execution_count": 364,
   "id": "246493fc",
   "metadata": {},
   "outputs": [
    {
     "name": "stdout",
     "output_type": "stream",
     "text": [
      "The harmful ingredients in bioeffect hydrating cream are phenoxyethanol\n"
     ]
    }
   ],
   "source": [
    "product_name = \"bioeffect hydrating cream\"\n",
    "input_string = \"WATER (AQUA), CAPRYLIC/CAPRIC TRIGLYCERIDE, BUTYLENE GLYCOL, C12-20 ACID PEG-8 ESTER, CETYL ALCOHOL, DL-ALPHA TOCOPHEROL, PHENOXYETHANOL, SODIUM HYALURONATE, ETHYLHEXYLGLYCERIN, CARBOMER, SORBITAN OLEATE, POTASSIUM SORBATE, POTASSIUM HYDROXIDE, CITRIC ACID, BARLEY (HORDEUM VULGARE) SEED EXTRACT, EGF (BARLEY SH-OLIGOPEPTIDE-1)\"\n",
    "_all, red, amber = process_product_ingredients(product_name, input_string)"
   ]
  },
  {
   "cell_type": "code",
   "execution_count": 365,
   "id": "f30a5412",
   "metadata": {},
   "outputs": [
    {
     "name": "stdout",
     "output_type": "stream",
     "text": [
      "all ingredients in curél moisture facial milk 120ml are safe\n"
     ]
    }
   ],
   "source": [
    "input_string = \"Water/Aqua, Glycerin, Cetyl-PG Hydroxyethyl Palmitamide, Dimethicone, Neopentyl Glycol Dicaprate, Squalane, Polysorbate 60, Butylene Glycol, Sorbitan Stearate, Cholesterol, Cholesteryl Isostearate, Allantoin, Cetyl Alcohol, Sodium Methyl Stearoyl Taurate, Stearyl Alcohol, Succinic Acid, Bis-Methoxypropylamido Isodocosane, Eucalyptus Globulus Leaf Extract, Methylparaben\"\n",
    "product_name = \"Curél Moisture Facial Milk 120ml\"\n",
    "_all, red, amber = process_product_ingredients(product_name, input_string)"
   ]
  },
  {
   "cell_type": "code",
   "execution_count": 366,
   "id": "f512b135",
   "metadata": {},
   "outputs": [
    {
     "name": "stdout",
     "output_type": "stream",
     "text": [
      "The harmful ingredients in elemis pro-collagen marine cream are phenoxyethanol\n",
      "The doubltful ingredients in elemis pro-collagen marine cream are fragrance (parfum),fragrance\n"
     ]
    }
   ],
   "source": [
    "input_string = \"Aqua/Water/Eau, Glycerin, Caprylic/Capric Triglyceride, Glyceryl Stearate SE, Isononyl Isononanoate, Dicaprylyl Carbonate, Dimethicone, Triticum Vulgare (Wheat) Germ Oil, Butyrospermum Parkii (Shea) Butter, Chlorella Vulgaris Extract, Padina Pavonica Thallus Extract, Daucus Carota Sativa (Carrot) Root Extract, Porphyridium Cruentum Extract, Acacia Decurrens (Mimosa) Flower Extract, Rosa Centifolia (Rose) Flower Extract, Ginkgo Biloba Leaf Extract, Tocopherol, Phenoxyethanol, Polyacrylate-13, Stearic Acid, Tocopheryl Acetate (Vitamin E), Coco-Caprylate, Cetyl Alcohol, Xanthan Gum, Glyceryl Polyacrylate, Polyisobutene, Fragrance (Parfum), Citric Acid, Chlorphenesin, Glyceryl Acrylate/Acrylic Acid Copolymer, Sodium Dehydroacetate, Disodium EDTA, Polysorbate 20, Sorbitan Isostearate, Linalool, Citronellol, Potassium Sorbate, Sodium Benzoate, Geraniol, Limonene\"\n",
    "product_name = \"Elemis Pro-Collagen Marine Cream\"\n",
    "_all, red, amber = process_product_ingredients(product_name, input_string)"
   ]
  },
  {
   "cell_type": "code",
   "execution_count": 367,
   "id": "12249c0b",
   "metadata": {},
   "outputs": [
    {
     "name": "stdout",
     "output_type": "stream",
     "text": [
      "all ingredients in suisai beauty clear powder wash/enzyme facial cleansing powder are safe\n"
     ]
    }
   ],
   "source": [
    "input_string = \"talc, sodium cocoyl isecthionate, olefin (C14-16), sodium sulfonate, sodium laururic glutamate, potassium lauric acid, myristoyl glutamate, caraginan, silk, methicone, isosteryl alcohol, BHT, DPG, ethylglucoside, potassium hydroxide, protease. Sodium phosphate, lye Paze, Methylparaben\"\n",
    "product_name = \"suisai Beauty Clear Powder Wash/Enzyme Facial Cleansing Powder\"\n",
    "_all, red, amber = process_product_ingredients(product_name, input_string)"
   ]
  },
  {
   "cell_type": "code",
   "execution_count": 369,
   "id": "6e4073bc",
   "metadata": {},
   "outputs": [
    {
     "name": "stdout",
     "output_type": "stream",
     "text": [
      "all ingredients in suisai beauty clear gold powder wash are safe\n"
     ]
    }
   ],
   "source": [
    "input_string = \"talc, maltitol, sodium cocoyl isecthionate, sodium mirystyl glutamate, sodium lauraul glutamate, olefin (C14-16), sodium sulfonate, potassium laurate, caraginan, czophylane root extract, squarane, citric acid, sodium hyaluronic acid, sunflower seed oil, abocado oil, bt, bt, de, bt, da. PG, Silk, E. Chilglucoside, Proteaze, Lipase, Sodium Benzoate\"\n",
    "product_name = \"suisai Beauty Clear gold Powder Wash\"\n",
    "_all, red, amber = process_product_ingredients(product_name, input_string)"
   ]
  },
  {
   "cell_type": "code",
   "execution_count": 368,
   "id": "bafce4c5",
   "metadata": {},
   "outputs": [
    {
     "name": "stdout",
     "output_type": "stream",
     "text": [
      "The harmful ingredients in ren skincare evercalm gentle cleansing milk 150ml are phenoxyethanol\n",
      "The doubltful ingredients in ren skincare evercalm gentle cleansing milk 150ml are fragrance\n"
     ]
    }
   ],
   "source": [
    "input_string = \"Water, cetearyl ethylhexanoate, cetearyl alcohol, caprylic/capric triglyceride, sesamum indicum (sesame) seed oil, butyrospermum parkii (shea) butter, myristyl myristate, glycerin, cetearyl glucoside, ribes nigrum (black currant) seed oil, helianthus annuus (sunflower) seed oil, sodium stearoyl glutamate, oryzanol, bisabolol, myristyl laurate, hippophae rhamnoides fruit extract, calendula officinalis flower extract, tocopherol, xanthan gum, phenoxyethanol, citrus nobilis (mandarin orange) peel oil, anthemis nobilis (chamomile) flower oil, sodium dehydroacetate, cinnamomum camphora linalloliferum (ho wood) leaf oil, graveolens flower oil, foeniculum vulgare (fennel) fruit extract, ethylhexylglycerin, glucose, fragrance*, rosmarinus officinalis (rosemary) leaf extract, citric acid, citronellol, limonene, linalool.\"\n",
    "product_name = \"Ren Skincare EverCalm Gentle Cleansing Milk 150ml\"\n",
    "_all, red, amber = process_product_ingredients(product_name, input_string)"
   ]
  },
  {
   "cell_type": "code",
   "execution_count": 370,
   "id": "7a70f74e",
   "metadata": {},
   "outputs": [
    {
     "name": "stdout",
     "output_type": "stream",
     "text": [
      "all ingredients in haba facial foam are safe\n"
     ]
    }
   ],
   "source": [
    "input_string = \"Water, glycerin, myristic acid, potassium hydroxide, cocamide DEA, palmitic acid, stearic acid, beeswax, cocamidopropyl betaine, PEG-150 distearate, glycol distearate, pentylene glycol, squalane, silk, dipotassium glycyrrhizinate, carbonic acid. Hydrogen Na\"\n",
    "product_name = \"Haba Facial Foam\"\n",
    "_all, red, amber = process_product_ingredients(product_name, input_string)"
   ]
  },
  {
   "cell_type": "code",
   "execution_count": 371,
   "id": "8f10930c",
   "metadata": {},
   "outputs": [
    {
     "name": "stdout",
     "output_type": "stream",
     "text": [
      "all ingredients in beauty of joseon relief sun rice + probiotics spf 50+ pa ++++ 50 ml are safe\n"
     ]
    }
   ],
   "source": [
    "input_string = \"Water, oryza sativa (rice) extract(30 %), dibutyl adipate, propanediol, diethylamino hydroxybenzoyl hexyl benzoate, polymethylsilsesquioxane, ethylhexyl triazone, niacinamide, methylene bis-benzotriazolyl tetramethyl butylphenol, coco-caprylate/caprate, caprylyl methicone, diethylhexyl butamido triazone, glycerin, butylene glycol, oryza sativa (r ice) germ extract(1,000 ppm), camellia sinensis leaf extract, lactobacillus/pumpkin ferment extract, bacillus/soybean ferment extract, saccharum officinarum (sugarcane) extract, macrocystis pyrifera (kelp) extract, cocos nucifera (coconut) fruit extract, panax ginseng root extract, monascus/rice ferment(0.12 ppm), pentylene glycol, behenyl alcohol, poly c 10-30 alkyl acrylate, polyglyceryl-3 methylglucose distearate, decyl glucoside, tromethamine, carbomer, acrylates/c10-30 alkyl acrylate crosspolymer, 1,2-hexanediol, sodium stearoyl glutamate, polyacrylate crosspolymer-6, ethylhexylglycerin, adenosine, xanthan gum, tocopherol, lactobacillus/rice ferment (0,12 ppm), aspergillus ferment, saccharomyces/r ice ferment filtrate(0.12 ppm)\"\n",
    "product_name = \"Beauty of Joseon Relief Sun Rice + Probiotics SPF 50+ PA ++++ 50 ml\"\n",
    "_all, red, amber = process_product_ingredients(product_name, input_string)"
   ]
  },
  {
   "cell_type": "code",
   "execution_count": 372,
   "id": "d1816076",
   "metadata": {},
   "outputs": [
    {
     "name": "stdout",
     "output_type": "stream",
     "text": [
      "The doubltful ingredients in sana nameraka honpo moist cleansing face wash are ethanol\n"
     ]
    }
   ],
   "source": [
    "input_string =\"Water, millistinate, glycerin, potassium hydroxide, palmitic acid, stearate, lauric acid, glyceryl stearate, BG, diglycerin, sodium steroyl glutamate, soy milk isoflavone, soy milk fermentation, EDTA-2Na, ethanol, cyclodextrin, diz seed extract, hydroxide seed extract. Chill cellulose, Sodium Polyacrylate, Polyquateranium-51, Lauramid Propyl Betaine\"\n",
    "product_name = \"SANA Nameraka Honpo Moist Cleansing Face Wash\"\n",
    "_all, red, amber = process_product_ingredients(product_name, input_string)"
   ]
  },
  {
   "cell_type": "code",
   "execution_count": null,
   "id": "59ee2498",
   "metadata": {},
   "outputs": [],
   "source": []
  },
  {
   "cell_type": "code",
   "execution_count": 270,
   "id": "3a9242a3",
   "metadata": {},
   "outputs": [
    {
     "name": "stdout",
     "output_type": "stream",
     "text": [
      "24\n"
     ]
    },
    {
     "data": {
      "text/plain": [
       "{'  MICA ',\n",
       " ' ALUMINA ',\n",
       " ' ASCOPHYLLUM NODOSUM EXTRACT ',\n",
       " ' BARIUM SULFATE ',\n",
       " ' CHLORPHENESIN ',\n",
       " ' CITRIC ACID ',\n",
       " ' DIMETHICONE ',\n",
       " ' ETHYLHEXYLGLYCERIN ',\n",
       " ' GLYCERIN ',\n",
       " ' IRON OXIDES (CI 77491) ',\n",
       " ' IRON OXIDES (CI 77492) ',\n",
       " ' IRON OXIDES (CI 77499)',\n",
       " ' LAUROYL LYSINE ',\n",
       " ' MAGNESIUM SILICATE ',\n",
       " ' METHYL METHACRYLATE CROSSPOLYMER ',\n",
       " ' PHENOXYETHANOL ',\n",
       " ' POLYSILICONE-2 ',\n",
       " ' POTASSIUM SORBATE ',\n",
       " ' SEA WATER/MARIS AQUA/EAU DE MER ',\n",
       " ' TITANIUM DIOXIDE (CI 77891) ',\n",
       " ' TOCOPHERYL ACETATE ',\n",
       " ' TRIMETHYLSILOXYSILICATE ',\n",
       " ' WATER/AQUA/EAU ',\n",
       " 'SILICA '}"
      ]
     },
     "execution_count": 270,
     "metadata": {},
     "output_type": "execute_result"
    }
   ],
   "source": [
    "input_list = re.split(r'[,･.·]', input_string)\n",
    "if len(input_list) <= 1:\n",
    "    print('Cannot Recognise the Split Symbol in the Ingredients List')\n",
    "# remove empty strings\n",
    "input_list = {s for s in input_list if any(c.isalpha() for c in s)}\n",
    "# remove the space or special character fron each string\n",
    "# convert the components to lower characters\n",
    "#input_list = {remove_special_chars_except_alnum_parentheses(x).lower() for x in input_list}\n",
    "# # filter components with ()\n",
    "# # for components with (), \n",
    "# ## seperate the components into 2 equivalent components - part 1: deal with anything in front of () + the rest\n",
    "# ## - part 2: content in () + the rest \n",
    "# inputs_with_parentheses = filter_strings_with_parentheses(input_list)\n",
    "# # add the parentheses splitted inputs into the input_list.\n",
    "# for input_with_parentheses in inputs_with_parentheses:\n",
    "#     part1, part2 = split_string_with_parentheses(input_with_parentheses)\n",
    "#     input_list.update({part1, part2})\n",
    "# # filter components with /\n",
    "# # for components with /, \n",
    "# ## seperate the components into parts that seperated by /\n",
    "# inputs_with_slash = filter_strings_with_slash(input_list)\n",
    "# # add the parentheses splitted inputs into the input_list.\n",
    "# for input_with_slash in inputs_with_slash:\n",
    "#     parts = split_string_with_slash(input_with_slash)\n",
    "#     input_list.update(set(parts))  \n",
    "print(len(input_list))\n",
    "input_list"
   ]
  },
  {
   "cell_type": "code",
   "execution_count": null,
   "id": "57ae81f8",
   "metadata": {},
   "outputs": [],
   "source": [
    "safe_products"
   ]
  },
  {
   "cell_type": "code",
   "execution_count": 202,
   "id": "0ef87579",
   "metadata": {},
   "outputs": [
    {
     "data": {
      "text/plain": [
       "{'(hydroxyethyl acrylate/sodium acryloyldimethyltaurate) copolymer',\n",
       " '4-dicarboxylate',\n",
       " 'acetic acid',\n",
       " 'acrylates copolymer',\n",
       " 'agar',\n",
       " 'alcohol',\n",
       " 'aqua',\n",
       " 'asparagopsis armata extract',\n",
       " 'asparagopsis armata extract (elaspro)',\n",
       " 'behenyl alcohol',\n",
       " 'bg',\n",
       " 'bisethoxydiglycol cyclohexane-1',\n",
       " 'butylene glyvol',\n",
       " 'caprooil tetrapeptide-3',\n",
       " 'caprylate/caprate/myristate/stearate',\n",
       " 'caprylic/capric triglyceride',\n",
       " 'cholesteryl stearate',\n",
       " 'citric acid',\n",
       " 'coix lacryma-jobi (job’s tears) seed extract',\n",
       " 'coix lacryma-jobi seed extract',\n",
       " 'collagen',\n",
       " 'collaplus',\n",
       " 'copolymer',\n",
       " 'dextran',\n",
       " 'dimethicone',\n",
       " 'dipotassium glycyrrhizate',\n",
       " 'dipropylene glycol',\n",
       " 'edta-2na',\n",
       " 'elasglow',\n",
       " 'elaspro',\n",
       " 'erasrich',\n",
       " 'ethanol',\n",
       " 'gagome extract',\n",
       " 'gagome extract (erasrich)',\n",
       " 'gluconic acid',\n",
       " 'glycerin',\n",
       " 'glyceryl stearate',\n",
       " 'glyceryl tri',\n",
       " 'glyceryl tri(caprylate/caprate/myristate/stearate)',\n",
       " 'hydrogenated lecithin',\n",
       " 'hydrolyzed collagen',\n",
       " 'hydrolyzed elastin',\n",
       " 'hydrolyzed soybean protein',\n",
       " 'hydrolyzed soybean protein (collaplus)',\n",
       " 'hydroxyethyl acrylate/sodium acryloyldimethyltaurate copolymer',\n",
       " 'job’s tears seed extract',\n",
       " 'majorana leaf extract',\n",
       " 'maltodextrin',\n",
       " 'methylparaben',\n",
       " 'peony root extract',\n",
       " 'polyglyceryl-10 stearate',\n",
       " 'polysorbate 60',\n",
       " 'propylparaben',\n",
       " 'pullulan',\n",
       " 'pvp',\n",
       " 'shea butter',\n",
       " 'sodium benzoate',\n",
       " 'sodium citrate',\n",
       " 'squalane',\n",
       " 'styrene',\n",
       " 'styrene/ acrylates copolymer',\n",
       " 'tetrapeptide-5',\n",
       " 'tetrapeptide-5 (elasglow)',\n",
       " 'tocopherol',\n",
       " 'water',\n",
       " 'water (aqua)'}"
      ]
     },
     "execution_count": 202,
     "metadata": {},
     "output_type": "execute_result"
    }
   ],
   "source": [
    "green_list"
   ]
  },
  {
   "cell_type": "code",
   "execution_count": 187,
   "id": "86b8429a",
   "metadata": {},
   "outputs": [
    {
     "name": "stdout",
     "output_type": "stream",
     "text": [
      "set()\n",
      "set()\n"
     ]
    }
   ],
   "source": [
    "red = input_list.intersection(red_list)\n",
    "amber = input_list.intersection(amber_list)\n",
    "print(red)\n",
    "print(amber)\n",
    "input_list.difference_update(red_list)\n",
    "input_list.difference_update(amber_list)\n",
    "green_list.update(input_list)"
   ]
  },
  {
   "cell_type": "code",
   "execution_count": 166,
   "id": "dd18c92b",
   "metadata": {},
   "outputs": [
    {
     "name": "stdout",
     "output_type": "stream",
     "text": [
      "['caprylate/caprate/myristate/stearate', 'WATER(AQUA/EAU)', 'Water/Aqua', 'glyceryl tri(caprylate/caprate/myristate/stearate)', 'hydroxyethyl acrylate/sodium acryloyldimethyltaurate copolymer']\n"
     ]
    },
    {
     "data": {
      "text/plain": [
       "{'AQUA',\n",
       " 'Aqua',\n",
       " 'EAU',\n",
       " 'WATER',\n",
       " 'WATER(AQUA/EAU)',\n",
       " 'Water',\n",
       " 'Water/Aqua',\n",
       " 'caprate',\n",
       " 'caprylate',\n",
       " 'caprylate/caprate/myristate/stearate',\n",
       " 'glyceryl tri',\n",
       " 'glyceryl tri(caprylate/caprate/myristate/stearate)',\n",
       " 'hydroxyethyl acrylate',\n",
       " 'hydroxyethyl acrylate/sodium acryloyldimethyltaurate copolymer',\n",
       " 'myristate',\n",
       " 'sodium acryloyldimethyltaurate copolymer',\n",
       " 'stearate'}"
      ]
     },
     "execution_count": 166,
     "metadata": {},
     "output_type": "execute_result"
    }
   ],
   "source": [
    "inputs_with_slash = filter_strings_with_slash(input_list)\n",
    "print(inputs_with_slash)\n",
    "# add the parentheses splitted inputs into the input_list.\n",
    "for input_with_slash in inputs_with_slash:\n",
    "    parts = split_string_with_slash(input_with_slash)\n",
    "    input_list.update(set(parts)) \n",
    "input_list"
   ]
  },
  {
   "cell_type": "code",
   "execution_count": 152,
   "id": "e72f7176",
   "metadata": {},
   "outputs": [],
   "source": [
    "input_list = {\n",
    "    \"WATER(AQUA/EAU)\",\n",
    "    \"Water/Aqua\",\n",
    "    \"hydroxyethyl acrylate/sodium acryloyldimethyltaurate copolymer\",\n",
    "    \"glyceryl tri(caprylate/caprate/myristate/stearate)\"}"
   ]
  },
  {
   "cell_type": "code",
   "execution_count": 156,
   "id": "4aca1080",
   "metadata": {},
   "outputs": [
    {
     "data": {
      "text/plain": [
       "{'WATER(AQUA/EAU)',\n",
       " 'Water/Aqua',\n",
       " 'caprylate/caprate/myristate/stearate',\n",
       " 'glyceryl tri',\n",
       " 'glyceryl tri(caprylate/caprate/myristate/stearate)',\n",
       " 'hydroxyethyl acrylate/sodium acryloyldimethyltaurate copolymer'}"
      ]
     },
     "execution_count": 156,
     "metadata": {},
     "output_type": "execute_result"
    }
   ],
   "source": [
    "input_list"
   ]
  },
  {
   "cell_type": "code",
   "execution_count": null,
   "id": "0e56d02c",
   "metadata": {},
   "outputs": [],
   "source": []
  },
  {
   "cell_type": "code",
   "execution_count": 116,
   "id": "2d01a16f",
   "metadata": {},
   "outputs": [],
   "source": [
    "input_string = \"Water, glycerin, squalane, BG, caprylic/capric triglyceride, behenyl alcohol, shea butter, polyglyceryl-10 stearate, dimethicone, glyceryl stearate, (hydroxyethyl acrylate/sodium acryloyldimethyltaurate) copolymer, peony root Extract, Caprooil Tetrapeptide-3, Collagen, Majorana Leaf Extract, Maltodextrin, Tetrapeptide-5 (Elasglow), Gagome Extract (Erasrich), Asparagopsis Armata Extract (Elaspro), Hydrolyzed Soybean Protein (Collaplus) , hydrolyzed elastin, hydrolyzed collagen, gluconic acid, bisethoxydiglycol cyclohexane-1,4-dicarboxylate, hydrogenated lecithin, glyceryl tri(caprylate/caprate/myristate/stearate), cholesteryl stearate, acetic acid. Tocopherol, agar, pullulan, PVP, dextran, ethanol, polysorbate 60, phenoxyethanol, EDTA-2Na, sodium benzoate, fragrance\""
   ]
  },
  {
   "cell_type": "code",
   "execution_count": 34,
   "id": "9b918aa4",
   "metadata": {},
   "outputs": [],
   "source": [
    "input_string = \"Aqua (Water), Prunus Amygdalus Dulcis (Sweet Almond) Oil, Cetearyl Glucoside, Simmondsia, Chinensis (Jojoba) Seed Oil ∆, Cera Alba (Beeswax), Glycerin, Butyrospermum Parkii (Shea) Butter, Triticum Vulgare (Wheat) Germ Oil, Calendula Officinalis Flower Oil∆, Squalane, Persea Gratissima (Avocado) Oil∆, Dehydroacetic acid & Benzyl alcohol, Xanthan Gum, Sodium lactate, Hippophae Rhamnoides Fruit Oil∆, Aniba Rosaeodora (Rosewood) Wood Oil, Citrus Medica Limonum (Lemon) Oil∆, Commiphora Myrrha Oil∆, Citrus Aurantifolia (Lime) Oil∆, Calophyllum Inophyllum Seed Oil∆, Matricaria Discoidea Flower/Leaf/Stem Extract*, Anthyllis Vul- neraria Flower Extract*, Capsella Bursa-Pastoris Extract*, Cetraria Islandica Extract*, Euphrasia Officinalis Extract, Lavandula Angustifolia (Lavender) Flower Extract, Matricaria Maritima Extract*, Stellaria Media (Chickweed) Extract*, Symphytum Officinale Leaf Extract, Trifolium Pratense (Clover) Flower Extract*, Viola Tricolor Extract*, Lactic Acid, Benzyl Benzoate**, Citral**, Geraniol**, Limonene**, Linalool**.\""
   ]
  },
  {
   "cell_type": "code",
   "execution_count": 89,
   "id": "456882b9",
   "metadata": {},
   "outputs": [],
   "source": [
    "input_string = \"WATER(AQUA/EAU)･PENTAERYTHRITYL TETRAETHYLHEXANOATE･SQUALANE･BUTYLENE GLYCOL･GLYCERIN･DIPROPYLENE GLYCOL･BEHENYL ALCOHOL･DIMETHICONE･DIPHENYLSILOXY PHENYL TRIMETHICONE･MYRISTYL MYRISTATE･POTASSIUM METHOXYSALICYLATE･HYDROGENATED POLYISOBUTENE･STEARYL ALCOHOL･BEHENETH-20･PEG-450･PHENOXYETHANOL･HYDROGENATED PALM OIL･DIMETHICONE/PHENYL VINYL DIMETHICONE CROSSPOLYMER･ELAEIS GUINEENSIS (PALM) KERNEL OIL･POLYVINYL ALCOHOL･DIMETHYLACRYLAMIDE/SODIUM ACRYLOYLDIMETHYLTAURATE CROSSPOLYMER･ELAEIS GUINEENSIS (PALM) OIL･FRAGRANCE (PARFUM)･DISODIUM EDTA･TOCOPHERYL ACETATE･XANTHAN GUM･ROSA DAMASCENA FLOWER WATER･RETINYL ACETATE･SODIUM CITRATE･HELIANTHUS ANNUUS (SUNFLOWER) SEED OIL･BHT･ALCOHOL･CAFFEINE･SODIUM METABISULFITE･LAVANDULA ANGUSTIFOLIA (LAVENDER) OIL･CITRIC ACID･SODIUM METAPHOSPHATE･PPG-3 DIPIVALATE･LIMONENE･HEXYL CINNAMAL･TOCOPHEROL･LINALOOL･IRON OXIDES (CI 77492)･CITRONELLOL･SODIUM ACETYLATED HYALURONATE･ANGELICA ACUTILOBA ROOT EXTRACT･ANGELICA KEISKEI LEAF/STEM EXTRACT･IRON OXIDES (CI 77491)･OLEA EUROPAEA (OLIVE) LEAF EXTRACT･SANGUISORBA OFFICINALIS ROOT EXTRACT･LAMIUM ALBUM FLOWER/LEAF/STEM EXTRACT･CAMELLIA SINENSIS LEAF EXTRACT･INOSITOL･CARTHAMUS TINCTORIUS (SAFFLOWER) FLOWER EXTRACT･PINUS SYLVESTRIS CONE EXTRACT･ZIZIPHUS JUJUBA FRUIT EXTRACT･ROSMARINUS OFFICINALIS (ROSEMARY) LEAF EXTRACT (ROSMARINUS OFFICINALIS LEAF EXTRACT)･EUCHEUMA SERRA/GRATELOUPIA SPARSA/SACCHARINA ANGUSTATA/ULVA LINZA/UNDARIA PINNATIFIDA EXTRACT･SACCHARINA ANGUSTATA/UNDARIA PINNATIFIDA EXTRACT･BUPLEURUM FALCATUM ROOT EXTRACT･COIX LACRYMA-JOBI MA-YUEN SEED EXTRACT･CELLULOSE･\""
   ]
  },
  {
   "cell_type": "code",
   "execution_count": 70,
   "id": "bd60f7b0",
   "metadata": {},
   "outputs": [],
   "source": [
    "input_string = \"Aqua (Water), Glycerin, Cetearyl Alcohol, Caprylyl Caprylate/Caprate, Olus Oil, Lactobacillus Ferment, Butyrospermum, Parkii (Shea) Butter, Helianthus Annus (Sunflower) Seed Wax, Simmondsia Chinesis (Jojoba) Seed Oil, Cetearyl Glucoside, Propanediol, Algae Extract, Cetyl Alcohol, Lactobacillus, Alpha-Glucan Oligosaccharide, Parfum* (Fragrance), Tocopheryl Acetate, Caprylic/Capric Triglyceride Panthenol, Carbomer, Vaccinium Vitas-Idaea (Lingonberry) Seed Oil, Xanthan Gum, Arnica Montana Flower Extract, Camelina Sativa Seed Oil, Cocus Nucifera (Coconut) Fruit Extract, Tocopherol, Magnesium Carboxymethyl Beta-Glucan, Malachite Extract, Albatrellus Ovinus Extract, Laminaria Ochroleuca Extract, Glucose, Phenoxyethanol, Helianthus Annuus (Sunflower) Seed Oil, Citric Acid, Sodium Hydroxide, Rosmarinus Officinalis Leat Extract, Citronellol, Geraniol, Limonene, Linalool *100% Natural Fragrance - Parfum 100% Naturel\""
   ]
  },
  {
   "cell_type": "code",
   "execution_count": 73,
   "id": "493d7054",
   "metadata": {},
   "outputs": [],
   "source": [
    "input_string = \"WATER(AQUA/EAU)･ALCOHOL･DIPROPYLENE GLYCOL･GLYCERIN･NIACINAMIDE･CYCLOHEXASILOXANE･CETYL ETHYLHEXANOATE･HYDROGENATED POLYDECENE･PHYTOSTERYL/OCTYLDODECYL LAUROYL GLUTAMATE･DIMETHICONE･PPG-3 DIPIVALATE･MYRISTYL MYRISTATE･METHYL METHACRYLATE CROSSPOLYMER･HYDROGENATED PALM OIL･AMMONIUM ACRYLOYLDIMETHYLTAURATE/VP COPOLYMER･BEHENYL ALCOHOL･POLYSORBATE 60･PEG-30 PHYTOSTEROL･PHENOXYETHANOL･DIMETHICONE/VINYL DIMETHICONE CROSSPOLYMER･BATYL ALCOHOL･TOCOPHERYL ACETATE･ERYTHRITOL･PEG/PPG-14/7 DIMETHYL ETHER･PEG/PPG-17/4 DIMETHYL ETHER･BUTYLENE GLYCOL･FRAGRANCE (PARFUM)･CARBOMER･ACRYLATES/C10-30 ALKYL ACRYLATE CROSSPOLYMER･POTASSIUM HYDROXIDE･CAFFEINE･DISODIUM EDTA･SODIUM METAPHOSPHATE･TOCOPHEROL･SAPINDUS MUKOROSSI PEEL EXTRACT･IRON OXIDES (CI 77492)･LINALOOL･SODIUM METABISULFITE･LIMONENE･CITRONELLOL･ANGELICA KEISKEI LEAF/STEM EXTRACT･GERANIOL･CAMELLIA SINENSIS LEAF EXTRACT･CITRUS JUNOS SEED EXTRACT･HDI/TRIMETHYLOL HEXYLLACTONE CROSSPOLYMER･ZIZIPHUS JUJUBA FRUIT EXTRACT･IRON OXIDES (CI 77491)･EUCHEUMA SERRA/GRATELOUPIA SPARSA/SACCHARINA ANGUSTATA/ULVA LINZA/UNDARIA PINNATIFIDA EXTRACT･CURCUMA LONGA (TURMERIC) RHIZOME EXTRACT･SACCHARINA ANGUSTATA/UNDARIA PINNATIFIDA EXTRACT･CHLORELLA VULGARIS EXTRACT･SILICA･\""
   ]
  },
  {
   "cell_type": "code",
   "execution_count": 81,
   "id": "5d9f7efb",
   "metadata": {},
   "outputs": [],
   "source": [
    "input_string = \"Water/Aqua, Glycerin, Cetyl-PG Hydroxyethyl Palmitamide, Dimethicone, Neopentyl Glycol Dicaprate, Squalane, Polysorbate 60, Butylene Glycol, Sorbitan Stearate, Cholesterol, Cholesteryl Isostearate, Allantoin, Cetyl Alcohol, Sodium Methyl Stearoyl Taurate, Stearyl Alcohol, Succinic Acid, Bis-Methoxypropylamido Isodocosane, Eucalyptus Globulus Leaf Extract, Methylparaben\""
   ]
  },
  {
   "cell_type": "code",
   "execution_count": 66,
   "id": "c208a074",
   "metadata": {},
   "outputs": [],
   "source": [
    "input_list = input_string.split(\"･\")"
   ]
  },
  {
   "cell_type": "code",
   "execution_count": 67,
   "id": "84459092",
   "metadata": {},
   "outputs": [
    {
     "data": {
      "text/plain": [
       "['WATER(AQUA/EAU)',\n",
       " 'PENTAERYTHRITYL TETRAETHYLHEXANOATE',\n",
       " 'SQUALANE',\n",
       " 'BUTYLENE GLYCOL',\n",
       " 'GLYCERIN',\n",
       " 'DIPROPYLENE GLYCOL',\n",
       " 'BEHENYL ALCOHOL',\n",
       " 'DIMETHICONE',\n",
       " 'DIPHENYLSILOXY PHENYL TRIMETHICONE',\n",
       " 'MYRISTYL MYRISTATE',\n",
       " 'POTASSIUM METHOXYSALICYLATE',\n",
       " 'HYDROGENATED POLYISOBUTENE',\n",
       " 'STEARYL ALCOHOL',\n",
       " 'BEHENETH-20',\n",
       " 'PEG-450',\n",
       " 'PHENOXYETHANOL',\n",
       " 'HYDROGENATED PALM OIL',\n",
       " 'DIMETHICONE/PHENYL VINYL DIMETHICONE CROSSPOLYMER',\n",
       " 'ELAEIS GUINEENSIS (PALM) KERNEL OIL',\n",
       " 'POLYVINYL ALCOHOL',\n",
       " 'DIMETHYLACRYLAMIDE/SODIUM ACRYLOYLDIMETHYLTAURATE CROSSPOLYMER',\n",
       " 'ELAEIS GUINEENSIS (PALM) OIL',\n",
       " 'FRAGRANCE (PARFUM)',\n",
       " 'DISODIUM EDTA',\n",
       " 'TOCOPHERYL ACETATE',\n",
       " 'XANTHAN GUM',\n",
       " 'ROSA DAMASCENA FLOWER WATER',\n",
       " 'RETINYL ACETATE',\n",
       " 'SODIUM CITRATE',\n",
       " 'HELIANTHUS ANNUUS (SUNFLOWER) SEED OIL',\n",
       " 'BHT',\n",
       " 'ALCOHOL',\n",
       " 'CAFFEINE',\n",
       " 'SODIUM METABISULFITE',\n",
       " 'LAVANDULA ANGUSTIFOLIA (LAVENDER) OIL',\n",
       " 'CITRIC ACID',\n",
       " 'SODIUM METAPHOSPHATE',\n",
       " 'PPG-3 DIPIVALATE',\n",
       " 'LIMONENE',\n",
       " 'HEXYL CINNAMAL',\n",
       " 'TOCOPHEROL',\n",
       " 'LINALOOL',\n",
       " 'IRON OXIDES (CI 77492)',\n",
       " 'CITRONELLOL',\n",
       " 'SODIUM ACETYLATED HYALURONATE',\n",
       " 'ANGELICA ACUTILOBA ROOT EXTRACT',\n",
       " 'ANGELICA KEISKEI LEAF/STEM EXTRACT',\n",
       " 'IRON OXIDES (CI 77491)',\n",
       " 'OLEA EUROPAEA (OLIVE) LEAF EXTRACT',\n",
       " 'SANGUISORBA OFFICINALIS ROOT EXTRACT',\n",
       " 'LAMIUM ALBUM FLOWER/LEAF/STEM EXTRACT',\n",
       " 'CAMELLIA SINENSIS LEAF EXTRACT',\n",
       " 'INOSITOL',\n",
       " 'CARTHAMUS TINCTORIUS (SAFFLOWER) FLOWER EXTRACT',\n",
       " 'PINUS SYLVESTRIS CONE EXTRACT',\n",
       " 'ZIZIPHUS JUJUBA FRUIT EXTRACT',\n",
       " 'ROSMARINUS OFFICINALIS (ROSEMARY) LEAF EXTRACT (ROSMARINUS OFFICINALIS LEAF EXTRACT)',\n",
       " 'EUCHEUMA SERRA/GRATELOUPIA SPARSA/SACCHARINA ANGUSTATA/ULVA LINZA/UNDARIA PINNATIFIDA EXTRACT',\n",
       " 'SACCHARINA ANGUSTATA/UNDARIA PINNATIFIDA EXTRACT',\n",
       " 'BUPLEURUM FALCATUM ROOT EXTRACT',\n",
       " 'COIX LACRYMA-JOBI MA-YUEN SEED EXTRACT',\n",
       " 'CELLULOSE',\n",
       " '']"
      ]
     },
     "execution_count": 67,
     "metadata": {},
     "output_type": "execute_result"
    }
   ],
   "source": [
    "input_list"
   ]
  },
  {
   "cell_type": "code",
   "execution_count": 165,
   "id": "8365bafe",
   "metadata": {},
   "outputs": [],
   "source": [
    "from thefuzz import fuzz\n",
    "import re\n",
    "\n",
    "def remove_special_chars_except_alnum_parentheses(s):\n",
    "    # Regular expression to match all special characters at the beginning or end of the string\n",
    "    pattern = r'^[^a-zA-Z0-9(]+|[^a-zA-Z0-9)]+$'\n",
    "    return re.sub(pattern, '', s)\n",
    "\n",
    "def filter_strings_with_parentheses(strings_set):\n",
    "    filtered_strings = [s for s in strings_set if '(' in s and ')' in s]\n",
    "    return filtered_strings\n",
    "\n",
    "def split_string_with_parentheses(input_string):\n",
    "    # Find the index of '(' and ')'\n",
    "    start_index = input_string.find('(')\n",
    "    end_index = input_string.find(')')\n",
    "\n",
    "    if start_index != -1 and end_index != -1 and end_index > start_index:\n",
    "        first = input_string[:start_index].strip() + input_string[end_index + 1:]\n",
    "        second = input_string[start_index + 1:end_index] + input_string[end_index + 1:]\n",
    "        \n",
    "        return first.strip(), second.strip()\n",
    "    else:\n",
    "        return None, None\n",
    "    \n",
    "def filter_strings_with_slash(strings_set):\n",
    "    filtered_strings = [s for s in strings_set if '/' in s]\n",
    "    return filtered_strings    \n",
    "\n",
    "\n",
    "def split_string_with_slash(s):\n",
    "    parts = re.split(r'[/()]', s)\n",
    "    cleaned_parts = [part.strip() for part in parts if part.strip()]\n",
    "    return cleaned_parts\n",
    "    # 3 scenarios: 1 - only one '/'; 2 - more than 1 '/'; 3 - '()' and '/'"
   ]
  },
  {
   "cell_type": "code",
   "execution_count": 79,
   "id": "f3bf5f08",
   "metadata": {},
   "outputs": [
    {
     "data": {
      "text/plain": [
       "['iron oxides (ci 77491)',\n",
       " 'fragrance (parfum)',\n",
       " 'curcuma longa (turmeric) rhizome extract',\n",
       " 'water(aqua/eau)',\n",
       " 'iron oxides (ci 77492)']"
      ]
     },
     "execution_count": 79,
     "metadata": {},
     "output_type": "execute_result"
    }
   ],
   "source": [
    "inputs_with_parentheses = filter_strings_with_parentheses(input_list)\n",
    "inputs_with_parentheses\n",
    "for input_with_parentheses in inputs_with_parentheses:\n",
    "    part1, part2 = split_string_with_parentheses(input_wiht_parentheses)"
   ]
  },
  {
   "cell_type": "code",
   "execution_count": 62,
   "id": "6661c66f",
   "metadata": {},
   "outputs": [
    {
     "data": {
      "text/plain": [
       "('aniba rosaeodora wood oil', 'rosewood wood oil')"
      ]
     },
     "execution_count": 62,
     "metadata": {},
     "output_type": "execute_result"
    }
   ],
   "source": [
    "input_string = 'aniba rosaeodora (rosewood) wood oil'\n",
    "split_string_with_parentheses(input_string)"
   ]
  },
  {
   "cell_type": "code",
   "execution_count": 118,
   "id": "850770d4",
   "metadata": {},
   "outputs": [
    {
     "data": {
      "text/plain": [
       "{'(hydroxyethyl acrylate/sodium acryloyldimethyltaurate) copolymer',\n",
       " '4-dicarboxylate',\n",
       " 'acetic acid',\n",
       " 'agar',\n",
       " 'asparagopsis armata extract (elaspro)',\n",
       " 'behenyl alcohol',\n",
       " 'bg',\n",
       " 'bisethoxydiglycol cyclohexane-1',\n",
       " 'caprooil tetrapeptide-3',\n",
       " 'caprylic/capric triglyceride',\n",
       " 'cholesteryl stearate',\n",
       " 'collagen',\n",
       " 'dextran',\n",
       " 'dimethicone',\n",
       " 'edta-2na',\n",
       " 'ethanol',\n",
       " 'fragrance',\n",
       " 'gagome extract (erasrich)',\n",
       " 'gluconic acid',\n",
       " 'glycerin',\n",
       " 'glyceryl stearate',\n",
       " 'glyceryl tri(caprylate/caprate/myristate/stearate)',\n",
       " 'hydrogenated lecithin',\n",
       " 'hydrolyzed collagen',\n",
       " 'hydrolyzed elastin',\n",
       " 'hydrolyzed soybean protein (collaplus)',\n",
       " 'majorana leaf extract',\n",
       " 'maltodextrin',\n",
       " 'peony root extract',\n",
       " 'phenoxyethanol',\n",
       " 'polyglyceryl-10 stearate',\n",
       " 'polysorbate 60',\n",
       " 'pullulan',\n",
       " 'pvp',\n",
       " 'shea butter',\n",
       " 'sodium benzoate',\n",
       " 'squalane',\n",
       " 'tetrapeptide-5 (elasglow)',\n",
       " 'tocopherol',\n",
       " 'water'}"
      ]
     },
     "execution_count": 118,
     "metadata": {},
     "output_type": "execute_result"
    }
   ],
   "source": [
    "# convert the long string to list of components\n",
    "input_list = re.split(r'[,･.]', input_string)\n",
    "if len(input_list) <= 1:\n",
    "    print('Cannot Recognise the Split Symbol in the Ingredients List')\n",
    "# remove empty strings\n",
    "input_list = {s for s in input_list if any(c.isalpha() for c in s)}\n",
    "# remove the space or special character fron each string\n",
    "# convert the components to lower characters\n",
    "input_list = {remove_special_chars_except_alnum_parentheses(x).lower() for x in input_list}\n",
    "# filter components with ()\n",
    "# for components with (), \n",
    "## seperate the components into 2 equivalent components - part 1: deal with anything in front of () + the rest\n",
    "## - part 2: content in () + the rest \n",
    "inputs_with_parentheses = filter_strings_with_parentheses(input_list)\n",
    "inputs_with_parentheses\n",
    "for input_with_parentheses in inputs_with_parentheses:\n",
    "    part1, part2 = split_string_with_parentheses(input_with_parentheses)\n",
    "    input_list.update({part1, part2})\n",
    "## for each of the seperated words pair, intersect with red and amber list and return intersected words.\n",
    "input_list"
   ]
  },
  {
   "cell_type": "code",
   "execution_count": 127,
   "id": "2eb73ffb",
   "metadata": {},
   "outputs": [
    {
     "name": "stdout",
     "output_type": "stream",
     "text": [
      "{'phenoxyethanol'}\n",
      "{'fragrance'}\n"
     ]
    }
   ],
   "source": []
  },
  {
   "cell_type": "code",
   "execution_count": 128,
   "id": "8431ce90",
   "metadata": {},
   "outputs": [],
   "source": []
  },
  {
   "cell_type": "code",
   "execution_count": 120,
   "id": "df722e1c",
   "metadata": {},
   "outputs": [
    {
     "data": {
      "text/plain": [
       "{'(hydroxyethyl acrylate/sodium acryloyldimethyltaurate) copolymer',\n",
       " '4-dicarboxylate',\n",
       " 'acetic acid',\n",
       " 'agar',\n",
       " 'asparagopsis armata extract (elaspro)',\n",
       " 'behenyl alcohol',\n",
       " 'bg',\n",
       " 'bisethoxydiglycol cyclohexane-1',\n",
       " 'caprooil tetrapeptide-3',\n",
       " 'caprylic/capric triglyceride',\n",
       " 'cholesteryl stearate',\n",
       " 'collagen',\n",
       " 'dextran',\n",
       " 'dimethicone',\n",
       " 'edta-2na',\n",
       " 'ethanol',\n",
       " 'fragrance',\n",
       " 'gagome extract (erasrich)',\n",
       " 'gluconic acid',\n",
       " 'glycerin',\n",
       " 'glyceryl stearate',\n",
       " 'glyceryl tri(caprylate/caprate/myristate/stearate)',\n",
       " 'hydrogenated lecithin',\n",
       " 'hydrolyzed collagen',\n",
       " 'hydrolyzed elastin',\n",
       " 'hydrolyzed soybean protein (collaplus)',\n",
       " 'majorana leaf extract',\n",
       " 'maltodextrin',\n",
       " 'peony root extract',\n",
       " 'phenoxyethanol',\n",
       " 'polyglyceryl-10 stearate',\n",
       " 'polysorbate 60',\n",
       " 'pullulan',\n",
       " 'pvp',\n",
       " 'shea butter',\n",
       " 'sodium benzoate',\n",
       " 'squalane',\n",
       " 'tetrapeptide-5 (elasglow)',\n",
       " 'tocopherol',\n",
       " 'water'}"
      ]
     },
     "execution_count": 120,
     "metadata": {},
     "output_type": "execute_result"
    }
   ],
   "source": [
    "input_list"
   ]
  },
  {
   "cell_type": "code",
   "execution_count": 125,
   "id": "44d24c9a",
   "metadata": {},
   "outputs": [],
   "source": [
    "inputs_with_parentheses = filter_strings_with_parentheses(input_list)\n",
    "inputs_with_parentheses\n",
    "for input_with_parentheses in inputs_with_parentheses:\n",
    "    part1, part2 = split_string_with_parentheses(input_with_parentheses)\n",
    "    input_list.update({part1, part2})"
   ]
  },
  {
   "cell_type": "code",
   "execution_count": 129,
   "id": "b6dce52b",
   "metadata": {},
   "outputs": [
    {
     "data": {
      "text/plain": [
       "{'(hydroxyethyl acrylate/sodium acryloyldimethyltaurate) copolymer',\n",
       " '4-dicarboxylate',\n",
       " 'acetic acid',\n",
       " 'agar',\n",
       " 'aqua',\n",
       " 'asparagopsis armata extract',\n",
       " 'asparagopsis armata extract (elaspro)',\n",
       " 'behenyl alcohol',\n",
       " 'bg',\n",
       " 'bisethoxydiglycol cyclohexane-1',\n",
       " 'caprooil tetrapeptide-3',\n",
       " 'caprylate/caprate/myristate/stearate',\n",
       " 'caprylic/capric triglyceride',\n",
       " 'cholesteryl stearate',\n",
       " 'collagen',\n",
       " 'collaplus',\n",
       " 'copolymer',\n",
       " 'dextran',\n",
       " 'dimethicone',\n",
       " 'edta-2na',\n",
       " 'elasglow',\n",
       " 'elaspro',\n",
       " 'erasrich',\n",
       " 'ethanol',\n",
       " 'gagome extract',\n",
       " 'gagome extract (erasrich)',\n",
       " 'gluconic acid',\n",
       " 'glycerin',\n",
       " 'glyceryl stearate',\n",
       " 'glyceryl tri',\n",
       " 'glyceryl tri(caprylate/caprate/myristate/stearate)',\n",
       " 'hydrogenated lecithin',\n",
       " 'hydrolyzed collagen',\n",
       " 'hydrolyzed elastin',\n",
       " 'hydrolyzed soybean protein',\n",
       " 'hydrolyzed soybean protein (collaplus)',\n",
       " 'hydroxyethyl acrylate/sodium acryloyldimethyltaurate copolymer',\n",
       " 'majorana leaf extract',\n",
       " 'maltodextrin',\n",
       " 'peony root extract',\n",
       " 'polyglyceryl-10 stearate',\n",
       " 'polysorbate 60',\n",
       " 'pullulan',\n",
       " 'pvp',\n",
       " 'shea butter',\n",
       " 'sodium benzoate',\n",
       " 'squalane',\n",
       " 'tetrapeptide-5',\n",
       " 'tetrapeptide-5 (elasglow)',\n",
       " 'tocopherol',\n",
       " 'water'}"
      ]
     },
     "execution_count": 129,
     "metadata": {},
     "output_type": "execute_result"
    }
   ],
   "source": [
    "green_list"
   ]
  },
  {
   "cell_type": "code",
   "execution_count": 138,
   "id": "8254b7cb",
   "metadata": {},
   "outputs": [
    {
     "name": "stdout",
     "output_type": "stream",
     "text": [
      "['WATER(AQUA/EAU)', 'glyceryl tri(caprylate/caprate/myristate/stearate)']\n"
     ]
    },
    {
     "data": {
      "text/plain": [
       "{'AQUA/EAU',\n",
       " 'Aqua',\n",
       " 'WATER',\n",
       " 'caprylate/caprate/myristate/stearate',\n",
       " 'glyceryl tri'}"
      ]
     },
     "execution_count": 138,
     "metadata": {},
     "output_type": "execute_result"
    }
   ],
   "source": [
    "import re\n",
    "\n",
    "def split_string_with_slash(s):\n",
    "    parts = re.split(r'[/()]', s)\n",
    "    cleaned_parts = [part.strip() for part in parts if part.strip()]\n",
    "    return cleaned_parts\n",
    "\n",
    "# Test the function\n",
    "strings = [\n",
    "    \"WATER(AQUA/EAU)\",\n",
    "    \"Water/Aqua\",\n",
    "    \"hydroxyethyl acrylate/sodium acryloyldimethyltaurate copolymer\",\n",
    "    \"glyceryl tri(caprylate/caprate/myristate/stearate)\"\n",
    "]\n",
    "\n",
    "input_list = {'Aqua'}\n",
    "\n",
    "inputs_with_parentheses = filter_strings_with_parentheses(strings)\n",
    "print(inputs_with_parentheses)\n",
    "for input_with_parentheses in inputs_with_parentheses:\n",
    "    part1, part2 = split_string_with_parentheses(input_with_parentheses)\n",
    "    input_list.update({part1, part2})\n",
    "    \n",
    "input_list"
   ]
  },
  {
   "cell_type": "code",
   "execution_count": 141,
   "id": "381267e4",
   "metadata": {},
   "outputs": [
    {
     "data": {
      "text/plain": [
       "('glyceryl tri', 'caprylate/caprate/myristate/stearate')"
      ]
     },
     "execution_count": 141,
     "metadata": {},
     "output_type": "execute_result"
    }
   ],
   "source": [
    "input_string = \"glyceryl tri(caprylate/caprate/myristate/stearate)\"\n",
    "split_string_with_parentheses(input_string)"
   ]
  },
  {
   "cell_type": "code",
   "execution_count": 142,
   "id": "bcca560c",
   "metadata": {},
   "outputs": [
    {
     "name": "stdout",
     "output_type": "stream",
     "text": [
      "['WATER', 'AQUA', 'EAU']\n",
      "['Water', 'Aqua']\n",
      "['hydroxyethyl acrylate', 'sodium acryloyldimethyltaurate copolymer']\n",
      "['glyceryl tri', 'caprylate', 'caprate', 'myristate', 'stearate']\n"
     ]
    }
   ],
   "source": [
    "\n",
    "for s in strings:\n",
    "    parts = split_string_with_slash(s)\n",
    "    print(parts)"
   ]
  },
  {
   "cell_type": "code",
   "execution_count": null,
   "id": "9aee6cb0",
   "metadata": {},
   "outputs": [],
   "source": []
  }
 ],
 "metadata": {
  "kernelspec": {
   "display_name": "Python 3",
   "language": "python",
   "name": "python3"
  },
  "language_info": {
   "codemirror_mode": {
    "name": "ipython",
    "version": 3
   },
   "file_extension": ".py",
   "mimetype": "text/x-python",
   "name": "python",
   "nbconvert_exporter": "python",
   "pygments_lexer": "ipython3",
   "version": "3.7.15"
  }
 },
 "nbformat": 4,
 "nbformat_minor": 5
}
